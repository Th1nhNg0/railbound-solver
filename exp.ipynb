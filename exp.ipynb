{
 "cells": [
  {
   "cell_type": "code",
   "execution_count": 5,
   "metadata": {},
   "outputs": [],
   "source": [
    "from PIL import Image, ImageDraw\n",
    "import os\n",
    "from data import tile_mapping,connectable\n",
    "\n",
    "def render_map(map_data, tile_mapping):\n",
    "    tile_size = 100  # Assuming each tile is 100x100 pixels\n",
    "    rows = len(map_data)\n",
    "    cols = len(map_data[0])\n",
    "    \n",
    "    map_image = Image.new('RGBA', (cols * tile_size, rows * tile_size))\n",
    "    draw = ImageDraw.Draw(map_image)\n",
    "\n",
    "    for row in range(rows):\n",
    "        for col in range(cols):\n",
    "            tile_id = map_data[row][col]\n",
    "            tile_info = tile_mapping[tile_id]\n",
    "            tile_image_path = tile_info['image_path']\n",
    "            tile_image = Image.open(tile_image_path)\n",
    "            \n",
    "          \n",
    "\n",
    "            # Flip the image if necessary\n",
    "            if tile_info['is_flipped']:\n",
    "                tile_image = tile_image.transpose(Image.FLIP_LEFT_RIGHT)\n",
    "\n",
    "            # Rotate the image\n",
    "            rotation = tile_info['rotation'] * -90\n",
    "            tile_image = tile_image.rotate(rotation, expand=True)\n",
    "\n",
    "            # Paste the tile image into the map\n",
    "            map_image.paste(tile_image, (col * tile_size, row * tile_size))\n",
    "            # draw connection points as a circle inside the tile on the edge\n",
    "            #  example 'connect_points': ['right', 'bottom', 'top']\n",
    "            connect_points = tile_info.get('connect_points', [])\n",
    "            for point in connect_points:\n",
    "                if point == 'right':\n",
    "                    draw.ellipse((col * tile_size + tile_size - 10, row * tile_size + tile_size//2 - 5, col * tile_size + tile_size, row * tile_size + tile_size//2 + 5), fill=(255, 0, 0, 255))\n",
    "                if point == 'left':\n",
    "                    draw.ellipse((col * tile_size, row * tile_size + tile_size//2 - 5, col * tile_size + 10, row * tile_size + tile_size//2 + 5), fill=(255, 0, 0, 255))\n",
    "                if point == 'top':\n",
    "                    draw.ellipse((col * tile_size + tile_size//2 - 5, row * tile_size, col * tile_size + tile_size//2 + 5, row * tile_size + 10), fill=(255, 0, 0, 255))\n",
    "                if point == 'bottom':\n",
    "                    draw.ellipse((col * tile_size + tile_size//2 - 5, row * tile_size + tile_size - 10, col * tile_size + tile_size//2 + 5, row * tile_size + tile_size), fill=(255, 0, 0, 255))\n",
    "\n",
    "         \n",
    "    # add grid lines\n",
    "    for x in range(0, map_image.width, tile_size):\n",
    "        draw.line((x, 0, x, map_image.height), fill=(0, 0, 0, 255))\n",
    "    for y in range(0, map_image.height, tile_size):\n",
    "        draw.line((0, y, map_image.width, y), fill=(0, 0, 0, 255))\n",
    "    return map_image\n",
    "\n",
    "\n"
   ]
  },
  {
   "cell_type": "code",
   "execution_count": 6,
   "metadata": {},
   "outputs": [
    {
     "data": {
      "image/png": "[encoded data removed]",
      "text/plain": [
       "<PIL.Image.Image image mode=RGBA size=400x400>"
      ]
     },
     "execution_count": 6,
     "metadata": {},
     "output_type": "execute_result"
    }
   ],
   "source": [
    "import matplotlib.pyplot as plt\n",
    "\n",
    "# map_data = 4x4 from 1 to 14\n",
    "map_data = [[1, 2, 3, 4],\n",
    "            [5, 6,0,0],\n",
    "            [ 7, 8, 9, 10],\n",
    "            [11, 12,13, 14]]\n",
    "\n",
    "render_map(map_data, tile_mapping)"
   ]
  }
 ],
 "metadata": {
  "kernelspec": {
   "display_name": "me",
   "language": "python",
   "name": "python3"
  },
  "language_info": {
   "codemirror_mode": {
    "name": "ipython",
    "version": 3
   },
   "file_extension": ".py",
   "mimetype": "text/x-python",
   "name": "python",
   "nbconvert_exporter": "python",
   "pygments_lexer": "ipython3",
   "version": "3.12.3"
  }
 },
 "nbformat": 4,
 "nbformat_minor": 2
}
