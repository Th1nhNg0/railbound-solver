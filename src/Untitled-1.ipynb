{
 "cells": [
  {
   "cell_type": "code",
   "execution_count": 3,
   "metadata": {},
   "outputs": [
    {
     "name": "stdout",
     "output_type": "stream",
     "text": [
      "Shallow copy time: 1.211000 seconds\n",
      "Deep copy time: 1.131205 seconds\n",
      "Deep copy is 0.93 times slower than shallow copy\n"
     ]
    }
   ],
   "source": [
    "import copy\n",
    "import timeit\n",
    "import random\n",
    "import numpy as np\n",
    "\n",
    "def create_nested_list(size, depth):\n",
    "    if depth == 0:\n",
    "        return random.sample(range(size), size)\n",
    "    return [create_nested_list(size, depth - 1) for _ in range(size)]\n",
    "\n",
    "def test_shallow_copy(lst):\n",
    "    return copy.copy(lst)\n",
    "\n",
    "def test_deep_copy(lst):\n",
    "    return copy.deepcopy(lst)\n",
    "\n",
    "# Create a nested list for testing\n",
    "test_list = create_nested_list(size=50, depth=3)\n",
    "test_list = np.array(test_list)\n",
    "# Number of iterations for each test\n",
    "iterations = 100\n",
    "\n",
    "# Measure time for shallow copy\n",
    "shallow_copy_time = timeit.timeit(lambda: test_shallow_copy(test_list), number=iterations)\n",
    "\n",
    "# Measure time for deep copy\n",
    "deep_copy_time = timeit.timeit(lambda: test_deep_copy(test_list), number=iterations)\n",
    "\n",
    "print(f\"Shallow copy time: {shallow_copy_time:.6f} seconds\")\n",
    "print(f\"Deep copy time: {deep_copy_time:.6f} seconds\")\n",
    "print(f\"Deep copy is {deep_copy_time / shallow_copy_time:.2f} times slower than shallow copy\")"
   ]
  }
 ],
 "metadata": {
  "kernelspec": {
   "display_name": "me",
   "language": "python",
   "name": "python3"
  },
  "language_info": {
   "codemirror_mode": {
    "name": "ipython",
    "version": 3
   },
   "file_extension": ".py",
   "mimetype": "text/x-python",
   "name": "python",
   "nbconvert_exporter": "python",
   "pygments_lexer": "ipython3",
   "version": "3.11.9"
  }
 },
 "nbformat": 4,
 "nbformat_minor": 2
}
