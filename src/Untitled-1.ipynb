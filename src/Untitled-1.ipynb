{
 "cells": [
  {
   "cell_type": "code",
   "execution_count": 55,
   "metadata": {},
   "outputs": [],
   "source": [
    "import json\n",
    "import numpy as np\n",
    "from typing import Optional\n",
    "from tile import Position,Tile,Direction\n",
    "\n",
    "data = json.load(open('./levels/2-1.json'))"
   ]
  },
  {
   "cell_type": "code",
   "execution_count": 56,
   "metadata": {},
   "outputs": [],
   "source": [
    "def make_effects(data):\n",
    "    grid = np.array(data['grid'])\n",
    "    numberLayer = np.array(data['numberLayer'])\n",
    "    effects: Optional[dict[Position, tuple[str, any]]] = {}\n",
    "    for x in range(grid.shape[1]):\n",
    "        for y in range(grid.shape[0]):\n",
    "            tile = Tile(grid[y, x])\n",
    "            if tile.is_tunnel:\n",
    "                other_tunnel = None\n",
    "                for x2 in range(grid.shape[1]):\n",
    "                    for y2 in range(grid.shape[0]):\n",
    "                        if (x2 != x or y2 != y) and (numberLayer[y2, x2] == numberLayer[y, x]):\n",
    "                            other_tunnel = (x2, y2, Tile(grid[y2, x2]))\n",
    "                            break\n",
    "                    if other_tunnel:\n",
    "                        break\n",
    "                \n",
    "                if other_tunnel:\n",
    "                    direction = other_tunnel[-1].name.split('_')[-1]\n",
    "                    direction = 'TRBL'.index(direction)\n",
    "                    effects[Position(x, y)] = ('tunnel', other_tunnel[:2], Direction(direction))\n",
    "    return effects"
   ]
  },
  {
   "cell_type": "code",
   "execution_count": 57,
   "metadata": {},
   "outputs": [
    {
     "name": "stdout",
     "output_type": "stream",
     "text": [
      "{Position(x=0, y=3): ('tunnel', (3, 3), <Direction.BOTTOM: 2>),\n",
      " Position(x=3, y=3): ('tunnel', (0, 3), <Direction.TOP: 0>)}\n"
     ]
    }
   ],
   "source": [
    "import pprint\n",
    "\n",
    "\n",
    "pprint.pprint(make_effects(data))"
   ]
  }
 ],
 "metadata": {
  "kernelspec": {
   "display_name": "me",
   "language": "python",
   "name": "python3"
  },
  "language_info": {
   "codemirror_mode": {
    "name": "ipython",
    "version": 3
   },
   "file_extension": ".py",
   "mimetype": "text/x-python",
   "name": "python",
   "nbconvert_exporter": "python",
   "pygments_lexer": "ipython3",
   "version": "3.11.9"
  }
 },
 "nbformat": 4,
 "nbformat_minor": 2
}
