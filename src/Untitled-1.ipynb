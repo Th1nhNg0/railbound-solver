{
 "cells": [
  {
   "cell_type": "code",
   "execution_count": 1,
   "metadata": {},
   "outputs": [
    {
     "name": "stdout",
     "output_type": "stream",
     "text": [
      "+--------------+--------------+--------------+---------------+---------------+-------------+-------------+\n",
      "| Array Size   |   np.copy 2D |   np.copy 1D |   arr.copy 2D |   arr.copy 1D |    slice 2D |    slice 1D |\n",
      "+==============+==============+==============+===============+===============+=============+=============+\n",
      "| 10x10        |  7.00005e-07 |  5.9999e-07  |   4.00003e-07 |   4.49989e-07 | 3.00002e-07 | 2.00002e-07 |\n",
      "+--------------+--------------+--------------+---------------+---------------+-------------+-------------+\n",
      "| 100x100      |  2.25e-06    |  2.59999e-06 |   2.05e-06    |   1.95e-06    | 1.99987e-07 | 2.00002e-07 |\n",
      "+--------------+--------------+--------------+---------------+---------------+-------------+-------------+\n",
      "| 1000x1000    |  0.00162585  |  0.00173085  |   0.00165595  |   0.00166185  | 2.50002e-07 | 2.00002e-07 |\n",
      "+--------------+--------------+--------------+---------------+---------------+-------------+-------------+\n",
      "| 10000x10000  |  0.164497    |  0.159655    |   0.160772    |   0.160296    | 2.50002e-07 | 2.00002e-07 |\n",
      "+--------------+--------------+--------------+---------------+---------------+-------------+-------------+\n"
     ]
    }
   ],
   "source": [
    "import numpy as np\n",
    "import timeit\n",
    "from tabulate import tabulate\n",
    "\n",
    "def create_2d_array(size):\n",
    "    return np.random.rand(size, size)\n",
    "\n",
    "def benchmark_copy(arr, method, number=2, repeat=3):\n",
    "    if method == 'np.copy':\n",
    "        timer = timeit.Timer(lambda: np.copy(arr))\n",
    "    elif method == 'arr.copy':\n",
    "        timer = timeit.Timer(lambda: arr.copy())\n",
    "    elif method == 'slice':\n",
    "        timer = timeit.Timer(lambda: arr[:])\n",
    "    else:\n",
    "        raise ValueError(\"Unknown copy method\")\n",
    "    \n",
    "    results = timer.repeat(repeat=repeat, number=number)\n",
    "    return min(results) / number\n",
    "\n",
    "def run_benchmarks(sizes=[10, 100, 1000,10000]):\n",
    "    results = []\n",
    "    \n",
    "    for size in sizes:\n",
    "        arr_2d = create_2d_array(size)\n",
    "        arr_1d = arr_2d.flatten()\n",
    "        \n",
    "        row = [f\"{size}x{size}\"]\n",
    "        for method in ['np.copy', 'arr.copy', 'slice']:\n",
    "            time_2d = benchmark_copy(arr_2d, method)\n",
    "            time_1d = benchmark_copy(arr_1d, method)\n",
    "            row.extend([f\"{time_2d}\", f\"{time_1d}\"])\n",
    "        \n",
    "        results.append(row)\n",
    "    \n",
    "    headers = [\"Array Size\", \n",
    "               \"np.copy 2D\", \"np.copy 1D\", \n",
    "               \"arr.copy 2D\", \"arr.copy 1D\", \n",
    "               \"slice 2D\", \"slice 1D\"]\n",
    "    \n",
    "    print(tabulate(results, headers=headers, tablefmt=\"grid\"))\n",
    "\n",
    "if __name__ == \"__main__\":\n",
    "    run_benchmarks()"
   ]
  }
 ],
 "metadata": {
  "kernelspec": {
   "display_name": "me",
   "language": "python",
   "name": "python3"
  },
  "language_info": {
   "codemirror_mode": {
    "name": "ipython",
    "version": 3
   },
   "file_extension": ".py",
   "mimetype": "text/x-python",
   "name": "python",
   "nbconvert_exporter": "python",
   "pygments_lexer": "ipython3",
   "version": "3.12.3"
  }
 },
 "nbformat": 4,
 "nbformat_minor": 2
}
