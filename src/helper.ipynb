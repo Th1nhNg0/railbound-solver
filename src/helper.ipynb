{
 "cells": [
  {
   "cell_type": "code",
   "execution_count": 1,
   "metadata": {},
   "outputs": [
    {
     "name": "stdout",
     "output_type": "stream",
     "text": [
      "Time taken using len(): 0.172735 seconds\n",
      "Time taken using precomputed values: 0.028490 seconds\n",
      "Speedup factor: 6.06x\n"
     ]
    }
   ],
   "source": [
    "import numpy as np\n",
    "import time\n",
    "\n",
    "def benchmark_len(arr, iterations):\n",
    "    start_time = time.perf_counter()\n",
    "    for _ in range(iterations):\n",
    "        height = len(arr)\n",
    "        width = len(arr[0])\n",
    "    end_time = time.perf_counter()\n",
    "    return end_time - start_time\n",
    "\n",
    "def benchmark_precomputed(arr, height, width, iterations):\n",
    "    start_time = time.perf_counter()\n",
    "    for _ in range(iterations):\n",
    "        h = height\n",
    "        w = width\n",
    "    end_time = time.perf_counter()\n",
    "    return end_time - start_time\n",
    "\n",
    "# Create a large NumPy array\n",
    "arr = np.random.rand(10000, 10000)\n",
    "height, width = arr.shape\n",
    "iterations = 1000000\n",
    "\n",
    "# Run benchmarks\n",
    "len_time = benchmark_len(arr, iterations)\n",
    "precomputed_time = benchmark_precomputed(arr, height, width, iterations)\n",
    "\n",
    "print(f\"Time taken using len(): {len_time:.6f} seconds\")\n",
    "print(f\"Time taken using precomputed values: {precomputed_time:.6f} seconds\")\n",
    "print(f\"Speedup factor: {len_time / precomputed_time:.2f}x\")"
   ]
  }
 ],
 "metadata": {
  "kernelspec": {
   "display_name": "me",
   "language": "python",
   "name": "python3"
  },
  "language_info": {
   "codemirror_mode": {
    "name": "ipython",
    "version": 3
   },
   "file_extension": ".py",
   "mimetype": "text/x-python",
   "name": "python",
   "nbconvert_exporter": "python",
   "pygments_lexer": "ipython3",
   "version": "3.12.3"
  }
 },
 "nbformat": 4,
 "nbformat_minor": 2
}
