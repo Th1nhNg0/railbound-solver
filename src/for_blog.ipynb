{
 "cells": [
  {
   "cell_type": "code",
   "execution_count": 19,
   "metadata": {},
   "outputs": [],
   "source": [
    "import itertools\n",
    "\n",
    "def generate_grids(grid, max_replacements):\n",
    "    # Find indices of 0s in the grid\n",
    "    zero_indices = [(i, j) for i, row in enumerate(grid) for j, val in enumerate(row) if val == 0]\n",
    "    \n",
    "    # Generate all possible combinations of replacements\n",
    "    for r in range(min(max_replacements, len(zero_indices)) + 1):\n",
    "        for indices in itertools.combinations(zero_indices, r):\n",
    "            for replacements in itertools.product(range(1, 15), repeat=r):\n",
    "                new_grid = [row[:] for row in grid]  # Create a deep copy of the grid\n",
    "                for (i, j), value in zip(indices, replacements):\n",
    "                    new_grid[i][j] = value\n",
    "                yield new_grid"
   ]
  },
  {
   "cell_type": "code",
   "execution_count": 20,
   "metadata": {},
   "outputs": [
    {
     "name": "stdout",
     "output_type": "stream",
     "text": [
      "8961\n"
     ]
    }
   ],
   "source": [
    "initial_grid = [[5, 15, 15], [0, 0, 0], [15, 15, 0], [0, 0, 0], [0, 15, 15], [0, 0, 6]]\n",
    "max_replacements = 2\n",
    "\n",
    "results = list(generate_grids(initial_grid, max_replacements))\n",
    "print(len(results))  #"
   ]
  },
  {
   "cell_type": "code",
   "execution_count": 21,
   "metadata": {},
   "outputs": [
    {
     "name": "stderr",
     "output_type": "stream",
     "text": [
      "1-1 : 1475it [00:00, 119712.04it/s]"
     ]
    },
    {
     "name": "stdout",
     "output_type": "stream",
     "text": [
      "Time taken for 1-1: 0.014321327209472656\n",
      "Total frames: 1475\n"
     ]
    },
    {
     "name": "stderr",
     "output_type": "stream",
     "text": [
      "\n",
      "1-3 : 37it [00:00, 36932.23it/s]\n"
     ]
    },
    {
     "name": "stdout",
     "output_type": "stream",
     "text": [
      "Time taken for 1-3: 0.001999378204345703\n",
      "Total frames: 37\n"
     ]
    },
    {
     "name": "stderr",
     "output_type": "stream",
     "text": [
      "1-6 : 518467it [00:04, 111340.69it/s]\n"
     ]
    },
    {
     "name": "stdout",
     "output_type": "stream",
     "text": [
      "Time taken for 1-6: 4.657582521438599\n",
      "Total frames: 518467\n"
     ]
    },
    {
     "name": "stderr",
     "output_type": "stream",
     "text": [
      "1-7 : 56017it [00:00, 151453.46it/s]\n"
     ]
    },
    {
     "name": "stdout",
     "output_type": "stream",
     "text": [
      "Time taken for 1-7: 0.37085723876953125\n",
      "Total frames: 56017\n"
     ]
    },
    {
     "name": "stderr",
     "output_type": "stream",
     "text": [
      "1-8 : 76557it [00:00, 126599.86it/s]\n"
     ]
    },
    {
     "name": "stdout",
     "output_type": "stream",
     "text": [
      "Time taken for 1-8: 0.6057186126708984\n",
      "Total frames: 76557\n"
     ]
    },
    {
     "name": "stderr",
     "output_type": "stream",
     "text": [
      "1-9 : 5078095it [01:04, 78929.27it/s] \n"
     ]
    },
    {
     "name": "stdout",
     "output_type": "stream",
     "text": [
      "Time taken for 1-9: 64.33928227424622\n",
      "Total frames: 5078094\n"
     ]
    }
   ],
   "source": [
    "# brutce force\n",
    "from grid import Grid\n",
    "from cart import Cart\n",
    "import os\n",
    "from ffmpeg import FFmpeg\n",
    "import json\n",
    "from utils import DIRECTION\n",
    "import copy\n",
    "import shutil\n",
    "from tqdm import tqdm\n",
    "import numpy as np\n",
    "import time\n",
    "\n",
    "root_folder = \"blog_output\"\n",
    "os.makedirs(root_folder, exist_ok=True)\n",
    "\n",
    "\n",
    "grid_to_visual = [\n",
    "    \"levels/1-1.json\",\n",
    "    \"levels/1-3.json\",\n",
    "    \"levels/1-6.json\",\n",
    "    \"levels/1-7.json\",\n",
    "    \"levels/1-8.json\",\n",
    "    \"levels/1-9.json\",\n",
    "]\n",
    "\n",
    "for grid_file in grid_to_visual:\n",
    "    name = os.path.basename(grid_file).split(\".\")[0]\n",
    "    output_folder = os.path.join(root_folder, name)\n",
    "    # os.makedirs(output_folder, exist_ok=True)\n",
    "\n",
    "    with open(grid_file, \"r\") as f:\n",
    "        data = json.load(f)\n",
    "    grid = data[\"grid\"]\n",
    "    destination = data[\"destination\"]\n",
    "    max_tracks = data[\"max_tracks\"]\n",
    "    carts = [\n",
    "        Cart((cart[\"x\"], cart[\"y\"]), DIRECTION(cart[\"direction\"]), cart[\"order\"])\n",
    "        for cart in data[\"carts\"]\n",
    "    ]\n",
    "    frames = []\n",
    "    start_time = time.time()\n",
    "    for i, _g in enumerate(tqdm(generate_grids(grid, max_tracks), desc=name + \" \")):\n",
    "        g = Grid(_g, destination)\n",
    "        frames.append(g)\n",
    "        if not g.is_grid_valid():\n",
    "            continue\n",
    "        carts_copy = [copy.deepcopy(cart) for cart in carts]\n",
    "        simulate_result = g.simulate(carts_copy)\n",
    "        if simulate_result[0] == \"success\":\n",
    "            break\n",
    "    print(f\"Time taken for {name}: {time.time() - start_time}\")\n",
    "    print(f\"Total frames: {i}\")\n",
    "    os.makedirs(output_folder, exist_ok=True)\n",
    "    total_frames = 200\n",
    "    indices = np.round(np.linspace(0, i-1, total_frames)).astype(int)\n",
    "    for i, j in enumerate(indices):\n",
    "        img = frames[j].get_image()\n",
    "        img.save(os.path.join(output_folder, f\"{name}_{i}.png\"))\n",
    "    # add 10 more frames to make the video more stable\n",
    "    for k in range(i, i+10):\n",
    "        img = frames[-1].get_image()\n",
    "        img.save(os.path.join(output_folder, f\"{name}_{k}.png\"))\n",
    "    full_path = os.getcwd()\n",
    "    ffmpeg = (\n",
    "        FFmpeg()\n",
    "        .option(\"y\")\n",
    "        .input(os.path.join(output_folder, f\"{name}_%d.png\"), framerate=20)\n",
    "        .output(\n",
    "            os.path.join(full_path, root_folder, f\"{name}.mp4\"),\n",
    "            {\n",
    "                \"c:v\": \"libx265\",\n",
    "            },\n",
    "        )\n",
    "    )\n",
    "    out=ffmpeg.execute()\n",
    "    shutil.rmtree(output_folder)"
   ]
  },
  {
   "cell_type": "code",
   "execution_count": 28,
   "metadata": {},
   "outputs": [
    {
     "name": "stdout",
     "output_type": "stream",
     "text": [
      "Time taken for 1-1: 0.0009999275207519531\n",
      "Total frames: 4\n",
      "Time taken for 1-3: 0.0\n",
      "Total frames: 3\n",
      "Time taken for 1-6: 0.0051593780517578125\n",
      "Total frames: 41\n",
      "Time taken for 1-7: 0.0\n",
      "Total frames: 4\n",
      "Time taken for 1-8: 0.001008749008178711\n",
      "Total frames: 6\n"
     ]
    }
   ],
   "source": [
    "from collections import deque\n",
    "\n",
    "for grid_file in grid_to_visual:\n",
    "    name = os.path.basename(grid_file).split(\".\")[0]\n",
    "    output_folder = os.path.join(root_folder, name)\n",
    "    os.makedirs(output_folder, exist_ok=True)\n",
    "\n",
    "    with open(grid_file, \"r\") as f:\n",
    "        data = json.load(f)\n",
    "    grid = data[\"grid\"]\n",
    "    destination = data[\"destination\"]\n",
    "    max_tracks = data[\"max_tracks\"]\n",
    "    g = Grid(grid, destination)\n",
    "    carts = [\n",
    "        Cart((cart[\"x\"], cart[\"y\"]), DIRECTION(cart[\"direction\"]), cart[\"order\"])\n",
    "        for cart in data[\"carts\"]\n",
    "    ]\n",
    "    queue = deque([(g, carts)])\n",
    "    frames = []\n",
    "    start_time = time.time()\n",
    "    while len(queue):\n",
    "        g, carts = queue.pop()\n",
    "        if g.tile_placed_count > max_tracks:\n",
    "            continue\n",
    "        g = copy.deepcopy(g)\n",
    "        carts = copy.deepcopy(carts)\n",
    "        result = g.simulate(carts, max_iter=10)\n",
    "        frames.append(g)\n",
    "        if result[0] == \"empty_pos_reached\":\n",
    "            possible_grids = g.get_possible_grid(result[1])\n",
    "            for grid in possible_grids:\n",
    "                queue.append((grid, carts))\n",
    "        if result[0] == \"success\":\n",
    "            break\n",
    "    print(f\"Time taken for {name}: {time.time() - start_time}\")\n",
    "    print(f\"Total frames: {len(frames)}\")\n",
    "    total_frames = 50\n",
    "    indices = np.round(np.linspace(0, len(frames)-1, total_frames)).astype(int)\n",
    "    for i, j in enumerate(indices):\n",
    "        img = frames[j].get_image()\n",
    "        img.save(os.path.join(output_folder, f\"{name}_{i}.png\"))\n",
    "    # add 10 more frames to make the video more stable\n",
    "    for k in range(i, i+10):\n",
    "        img = frames[-1].get_image()\n",
    "        img.save(os.path.join(output_folder, f\"{name}_{k}.png\"))\n",
    "    full_path = os.getcwd()\n",
    "    ffmpeg = (\n",
    "        FFmpeg()\n",
    "        .option(\"y\")\n",
    "        .input(os.path.join(output_folder, f\"{name}_%d.png\"), framerate=20)\n",
    "        .output(\n",
    "            os.path.join(full_path, root_folder, f\"{name}_optimize.mp4\"),\n",
    "            {\n",
    "                \"c:v\": \"libx265\",\n",
    "            },\n",
    "        )\n",
    "    )\n",
    "    ffmpeg.execute()\n",
    "    shutil.rmtree(output_folder)"
   ]
  }
 ],
 "metadata": {
  "kernelspec": {
   "display_name": "me",
   "language": "python",
   "name": "python3"
  },
  "language_info": {
   "codemirror_mode": {
    "name": "ipython",
    "version": 3
   },
   "file_extension": ".py",
   "mimetype": "text/x-python",
   "name": "python",
   "nbconvert_exporter": "python",
   "pygments_lexer": "ipython3",
   "version": "3.12.3"
  }
 },
 "nbformat": 4,
 "nbformat_minor": 2
}
