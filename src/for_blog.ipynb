{
 "cells": [
  {
   "cell_type": "code",
   "execution_count": 2,
   "metadata": {},
   "outputs": [],
   "source": [
    "import itertools\n",
    "from grid import Grid\n",
    "\n",
    "def generate_grids(grid, max_replacements):\n",
    "    # Find indices of 0s in the grid\n",
    "    zero_indices = [(i, j) for i, row in enumerate(grid) for j, val in enumerate(row) if val == 0]\n",
    "    \n",
    "    # Generate all possible combinations of replacements\n",
    "    for r in range(min(max_replacements, len(zero_indices)) + 1):\n",
    "        for indices in itertools.combinations(zero_indices, r):\n",
    "            for replacements in itertools.product(range(1, 15), repeat=r):\n",
    "                new_grid = [row[:] for row in grid]  # Create a deep copy of the grid\n",
    "                for (i, j), value in zip(indices, replacements):\n",
    "                    new_grid[i][j] = value\n",
    "                yield new_grid"
   ]
  },
  {
   "cell_type": "code",
   "execution_count": 4,
   "metadata": {},
   "outputs": [
    {
     "name": "stderr",
     "output_type": "stream",
     "text": [
      "OpenCV: FFMPEG: tag 0x30395056/'VP90' is not supported with codec id 167 and format 'webm / WebM'\n"
     ]
    },
    {
     "name": "stdout",
     "output_type": "stream",
     "text": [
      "WebM video has been created and saved as grid_animation.webm\n"
     ]
    }
   ],
   "source": [
    "import numpy as np\n",
    "import cv2\n",
    "\n",
    "def create_webm(initial_grid, max_replacements, output_filename, fps=2):\n",
    "    first_grid = Grid(initial_grid, (0, 0))\n",
    "    first_image = first_grid.get_image()\n",
    "    height, width = np.array(first_image).shape[:2]\n",
    "    fourcc = cv2.VideoWriter_fourcc(*'VP90')\n",
    "    video = cv2.VideoWriter(output_filename, fourcc, fps, (width, height))\n",
    "    \n",
    "    for grid in generate_grids(initial_grid, max_replacements):\n",
    "        g = Grid(grid, (0, 0))\n",
    "        img = g.get_image()\n",
    "        frame = cv2.cvtColor(np.array(img), cv2.COLOR_RGB2BGR)\n",
    "        video.write(frame)\n",
    "    \n",
    "    video.release()\n",
    "\n",
    "# Example usage\n",
    "initial_grid = [[6, 0, 0, 6]]\n",
    "max_replacements = 2\n",
    "output_filename = \"grid_animation.webm\"\n",
    "\n",
    "create_webm(initial_grid, max_replacements, output_filename,20)\n",
    "print(f\"WebM video has been created and saved as {output_filename}\")\n"
   ]
  }
 ],
 "metadata": {
  "kernelspec": {
   "display_name": "me",
   "language": "python",
   "name": "python3"
  },
  "language_info": {
   "codemirror_mode": {
    "name": "ipython",
    "version": 3
   },
   "file_extension": ".py",
   "mimetype": "text/x-python",
   "name": "python",
   "nbconvert_exporter": "python",
   "pygments_lexer": "ipython3",
   "version": "3.11.9"
  }
 },
 "nbformat": 4,
 "nbformat_minor": 2
}
